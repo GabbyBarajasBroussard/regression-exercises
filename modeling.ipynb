{
 "cells": [
  {
   "cell_type": "markdown",
   "metadata": {},
   "source": [
    "exercises\n",
    "Select a dataset with a continuous target variable.\n",
    "\n",
    "Be sure your data is prepared (no missing values, numeric datatypes) and split into samples.\n",
    "\n",
    "Work through all of the steps outlined in the lesson, from setting the baseline to selected a model and evaluating the final model on your test data."
   ]
  },
  {
   "cell_type": "code",
   "execution_count": 1,
   "metadata": {},
   "outputs": [],
   "source": [
    "import pandas as pd\n",
    "import numpy as np\n",
    "import prepare_zillow\n",
    "import matplotlib.pyplot as plt\n",
    "\n",
    "from sklearn.model_selection import train_test_split\n",
    "import sklearn.linear_model\n",
    "import sklearn.feature_selection\n",
    "import sklearn.preprocessing\n",
    "# modeling methods\n",
    "from sklearn.metrics import mean_squared_error\n",
    "from sklearn.linear_model import LinearRegression, LassoLars, TweedieRegressor\n",
    "from sklearn.preprocessing import PolynomialFeatures\n",
    "\n",
    "import warnings\n",
    "warnings.filterwarnings(\"ignore\")"
   ]
  },
  {
   "cell_type": "code",
   "execution_count": 2,
   "metadata": {},
   "outputs": [
    {
     "name": "stdout",
     "output_type": "stream",
     "text": [
      "<class 'pandas.core.frame.DataFrame'>\n",
      "RangeIndex: 116 entries, 0 to 115\n",
      "Data columns (total 24 columns):\n",
      " #   Column                            Non-Null Count  Dtype  \n",
      "---  ------                            --------------  -----  \n",
      " 0   parcel_id                         116 non-null    int64  \n",
      " 1   bathroom_count                    116 non-null    float64\n",
      " 2   bedroom_count                     116 non-null    float64\n",
      " 3   square_feet                       116 non-null    float64\n",
      " 4   fips                              116 non-null    float64\n",
      " 5   car_size_garage                   116 non-null    float64\n",
      " 6   latitude                          116 non-null    float64\n",
      " 7   longitude                         116 non-null    float64\n",
      " 8   pool_count                        116 non-null    float64\n",
      " 9   propertycountylandusecode         116 non-null    int64  \n",
      " 10  rawcensustractandblock            116 non-null    float64\n",
      " 11  regionidcity                      116 non-null    float64\n",
      " 12  regionidcounty                    116 non-null    float64\n",
      " 13  regionidzip                       116 non-null    float64\n",
      " 14  room_count                        116 non-null    float64\n",
      " 15  yearbuilt                         116 non-null    float64\n",
      " 16  numberofstories                   116 non-null    float64\n",
      " 17  structure_tax_value_dollar_count  116 non-null    float64\n",
      " 18  tax_value_dollar_count            116 non-null    float64\n",
      " 19  assessmentyear                    116 non-null    float64\n",
      " 20  land_tax_value_dollar_count       116 non-null    float64\n",
      " 21  taxamount                         116 non-null    float64\n",
      " 22  censustractandblock               116 non-null    float64\n",
      " 23  logerror                          116 non-null    float64\n",
      "dtypes: float64(22), int64(2)\n",
      "memory usage: 21.9 KB\n"
     ]
    }
   ],
   "source": [
    "df= prepare_zillow.clean_zillow()\n",
    "df=df.drop(columns=[\"transactiondate\",\"airconditioning\",\"heating\",\"architectural_style\",\"property_type\", \"construction_type\"])\n",
    "df.info()"
   ]
  },
  {
   "cell_type": "code",
   "execution_count": 3,
   "metadata": {},
   "outputs": [],
   "source": [
    "def split(df, stratify_by=\"\"):\n",
    "    '''\n",
    "    take in a DataFrame and return train, validate, and test DataFrames.\n",
    "    return train, validate, test DataFrames.\n",
    "    '''\n",
    "    train_validate, test = train_test_split(df, test_size=.2, random_state=123)\n",
    "    train, validate = train_test_split(train_validate, \n",
    "                                       test_size=.3, \n",
    "                                       random_state=123)\n",
    "    return train, validate, test"
   ]
  },
  {
   "cell_type": "code",
   "execution_count": 4,
   "metadata": {},
   "outputs": [
    {
     "data": {
      "text/plain": [
       "((64, 24), (28, 24), (24, 24))"
      ]
     },
     "execution_count": 4,
     "metadata": {},
     "output_type": "execute_result"
    }
   ],
   "source": [
    "# Split the data\n",
    "train, validate, test = split(df, stratify_by=\"tax_value_dollar_count\")\n",
    "train.shape, validate.shape, test.shape"
   ]
  },
  {
   "cell_type": "code",
   "execution_count": 5,
   "metadata": {},
   "outputs": [
    {
     "data": {
      "text/html": [
       "<div>\n",
       "<style scoped>\n",
       "    .dataframe tbody tr th:only-of-type {\n",
       "        vertical-align: middle;\n",
       "    }\n",
       "\n",
       "    .dataframe tbody tr th {\n",
       "        vertical-align: top;\n",
       "    }\n",
       "\n",
       "    .dataframe thead th {\n",
       "        text-align: right;\n",
       "    }\n",
       "</style>\n",
       "<table border=\"1\" class=\"dataframe\">\n",
       "  <thead>\n",
       "    <tr style=\"text-align: right;\">\n",
       "      <th></th>\n",
       "      <th>parcel_id</th>\n",
       "      <th>bathroom_count</th>\n",
       "      <th>bedroom_count</th>\n",
       "      <th>square_feet</th>\n",
       "      <th>fips</th>\n",
       "      <th>car_size_garage</th>\n",
       "      <th>latitude</th>\n",
       "      <th>longitude</th>\n",
       "      <th>pool_count</th>\n",
       "      <th>propertycountylandusecode</th>\n",
       "      <th>...</th>\n",
       "      <th>regionidzip</th>\n",
       "      <th>room_count</th>\n",
       "      <th>yearbuilt</th>\n",
       "      <th>numberofstories</th>\n",
       "      <th>structure_tax_value_dollar_count</th>\n",
       "      <th>assessmentyear</th>\n",
       "      <th>land_tax_value_dollar_count</th>\n",
       "      <th>taxamount</th>\n",
       "      <th>censustractandblock</th>\n",
       "      <th>logerror</th>\n",
       "    </tr>\n",
       "  </thead>\n",
       "  <tbody>\n",
       "    <tr>\n",
       "      <th>110</th>\n",
       "      <td>14657459</td>\n",
       "      <td>1.0</td>\n",
       "      <td>1.0</td>\n",
       "      <td>988.0</td>\n",
       "      <td>6059.0</td>\n",
       "      <td>0.0</td>\n",
       "      <td>33609900.0</td>\n",
       "      <td>-117751000.0</td>\n",
       "      <td>1.0</td>\n",
       "      <td>34</td>\n",
       "      <td>...</td>\n",
       "      <td>96963.0</td>\n",
       "      <td>4.0</td>\n",
       "      <td>1975.0</td>\n",
       "      <td>1.0</td>\n",
       "      <td>92342.0</td>\n",
       "      <td>2016.0</td>\n",
       "      <td>40508.0</td>\n",
       "      <td>1311.50</td>\n",
       "      <td>6.059063e+13</td>\n",
       "      <td>-0.028501</td>\n",
       "    </tr>\n",
       "    <tr>\n",
       "      <th>61</th>\n",
       "      <td>14603899</td>\n",
       "      <td>1.5</td>\n",
       "      <td>2.0</td>\n",
       "      <td>1200.0</td>\n",
       "      <td>6059.0</td>\n",
       "      <td>2.0</td>\n",
       "      <td>33873600.0</td>\n",
       "      <td>-117892000.0</td>\n",
       "      <td>1.0</td>\n",
       "      <td>34</td>\n",
       "      <td>...</td>\n",
       "      <td>97039.0</td>\n",
       "      <td>5.0</td>\n",
       "      <td>1979.0</td>\n",
       "      <td>2.0</td>\n",
       "      <td>119515.0</td>\n",
       "      <td>2016.0</td>\n",
       "      <td>54488.0</td>\n",
       "      <td>2151.46</td>\n",
       "      <td>6.059012e+13</td>\n",
       "      <td>-0.032215</td>\n",
       "    </tr>\n",
       "    <tr>\n",
       "      <th>41</th>\n",
       "      <td>14306854</td>\n",
       "      <td>3.0</td>\n",
       "      <td>4.0</td>\n",
       "      <td>2539.0</td>\n",
       "      <td>6059.0</td>\n",
       "      <td>2.0</td>\n",
       "      <td>33683349.0</td>\n",
       "      <td>-117784221.0</td>\n",
       "      <td>1.0</td>\n",
       "      <td>122</td>\n",
       "      <td>...</td>\n",
       "      <td>96941.0</td>\n",
       "      <td>8.0</td>\n",
       "      <td>1978.0</td>\n",
       "      <td>2.0</td>\n",
       "      <td>175466.0</td>\n",
       "      <td>2016.0</td>\n",
       "      <td>777225.0</td>\n",
       "      <td>9958.02</td>\n",
       "      <td>6.059053e+13</td>\n",
       "      <td>-0.005310</td>\n",
       "    </tr>\n",
       "    <tr>\n",
       "      <th>45</th>\n",
       "      <td>14645791</td>\n",
       "      <td>1.5</td>\n",
       "      <td>2.0</td>\n",
       "      <td>928.0</td>\n",
       "      <td>6059.0</td>\n",
       "      <td>1.0</td>\n",
       "      <td>33718400.0</td>\n",
       "      <td>-117887000.0</td>\n",
       "      <td>1.0</td>\n",
       "      <td>34</td>\n",
       "      <td>...</td>\n",
       "      <td>97004.0</td>\n",
       "      <td>4.0</td>\n",
       "      <td>1964.0</td>\n",
       "      <td>2.0</td>\n",
       "      <td>43728.0</td>\n",
       "      <td>2016.0</td>\n",
       "      <td>146272.0</td>\n",
       "      <td>2461.34</td>\n",
       "      <td>6.059074e+13</td>\n",
       "      <td>0.053269</td>\n",
       "    </tr>\n",
       "    <tr>\n",
       "      <th>66</th>\n",
       "      <td>14606438</td>\n",
       "      <td>1.5</td>\n",
       "      <td>2.0</td>\n",
       "      <td>1190.0</td>\n",
       "      <td>6059.0</td>\n",
       "      <td>1.0</td>\n",
       "      <td>33636000.0</td>\n",
       "      <td>-117679000.0</td>\n",
       "      <td>1.0</td>\n",
       "      <td>34</td>\n",
       "      <td>...</td>\n",
       "      <td>96962.0</td>\n",
       "      <td>4.0</td>\n",
       "      <td>1979.0</td>\n",
       "      <td>2.0</td>\n",
       "      <td>78534.0</td>\n",
       "      <td>2016.0</td>\n",
       "      <td>278466.0</td>\n",
       "      <td>3699.08</td>\n",
       "      <td>6.059032e+13</td>\n",
       "      <td>0.031663</td>\n",
       "    </tr>\n",
       "  </tbody>\n",
       "</table>\n",
       "<p>5 rows × 23 columns</p>\n",
       "</div>"
      ],
      "text/plain": [
       "     parcel_id  bathroom_count  bedroom_count  square_feet    fips  \\\n",
       "110   14657459             1.0            1.0        988.0  6059.0   \n",
       "61    14603899             1.5            2.0       1200.0  6059.0   \n",
       "41    14306854             3.0            4.0       2539.0  6059.0   \n",
       "45    14645791             1.5            2.0        928.0  6059.0   \n",
       "66    14606438             1.5            2.0       1190.0  6059.0   \n",
       "\n",
       "     car_size_garage    latitude    longitude  pool_count  \\\n",
       "110              0.0  33609900.0 -117751000.0         1.0   \n",
       "61               2.0  33873600.0 -117892000.0         1.0   \n",
       "41               2.0  33683349.0 -117784221.0         1.0   \n",
       "45               1.0  33718400.0 -117887000.0         1.0   \n",
       "66               1.0  33636000.0 -117679000.0         1.0   \n",
       "\n",
       "     propertycountylandusecode  ...  regionidzip  room_count  yearbuilt  \\\n",
       "110                         34  ...      96963.0         4.0     1975.0   \n",
       "61                          34  ...      97039.0         5.0     1979.0   \n",
       "41                         122  ...      96941.0         8.0     1978.0   \n",
       "45                          34  ...      97004.0         4.0     1964.0   \n",
       "66                          34  ...      96962.0         4.0     1979.0   \n",
       "\n",
       "     numberofstories  structure_tax_value_dollar_count  assessmentyear  \\\n",
       "110              1.0                           92342.0          2016.0   \n",
       "61               2.0                          119515.0          2016.0   \n",
       "41               2.0                          175466.0          2016.0   \n",
       "45               2.0                           43728.0          2016.0   \n",
       "66               2.0                           78534.0          2016.0   \n",
       "\n",
       "     land_tax_value_dollar_count  taxamount  censustractandblock  logerror  \n",
       "110                      40508.0    1311.50         6.059063e+13 -0.028501  \n",
       "61                       54488.0    2151.46         6.059012e+13 -0.032215  \n",
       "41                      777225.0    9958.02         6.059053e+13 -0.005310  \n",
       "45                      146272.0    2461.34         6.059074e+13  0.053269  \n",
       "66                      278466.0    3699.08         6.059032e+13  0.031663  \n",
       "\n",
       "[5 rows x 23 columns]"
      ]
     },
     "execution_count": 5,
     "metadata": {},
     "output_type": "execute_result"
    }
   ],
   "source": [
    "target = \"tax_value_dollar_count\"\n",
    "\n",
    "# split train into X (dataframe, drop target) & y (series, keep target only)\n",
    "X_train = train.drop(columns=[target])\n",
    "y_train = train[target]\n",
    "\n",
    "# split validate into X (dataframe, drop target) & y (series, keep target only)\n",
    "X_validate = validate.drop(columns=[target])\n",
    "y_validate = validate[target]\n",
    "\n",
    "# split test into X (dataframe, drop target) & y (series, keep target only)\n",
    "X_test = test.drop(columns=[target])\n",
    "y_test = test[target]\n",
    "\n",
    "X_train.head()"
   ]
  },
  {
   "cell_type": "code",
   "execution_count": 6,
   "metadata": {},
   "outputs": [
    {
     "name": "stdout",
     "output_type": "stream",
     "text": [
      "RMSE using Mean\n",
      "Train/In-Sample:  161830.99 \n",
      "Validate/Out-of-Sample:  159780.76\n",
      "RMSE using Median\n",
      "Train/In-Sample:  164830.95 \n",
      "Validate/Out-of-Sample:  166334.16\n"
     ]
    }
   ],
   "source": [
    "# We need y_train and y_validate to be dataframes to append the new columns with predicted values. \n",
    "y_train = pd.DataFrame(y_train)\n",
    "y_validate = pd.DataFrame(y_validate)\n",
    "\n",
    "# 1. Predict tax_value_dollar_count_pred_mean\n",
    "tax_value_dollar_count_pred_mean = y_train.tax_value_dollar_count.mean()\n",
    "y_train['tax_value_dollar_count_pred_mean'] = tax_value_dollar_count_pred_mean\n",
    "y_validate['tax_value_dollar_count_pred_mean'] = tax_value_dollar_count_pred_mean\n",
    "\n",
    "# 2. compute tax_value_dollar_count_pred_median\n",
    "tax_value_dollar_count_pred_median = y_train.tax_value_dollar_count.median()\n",
    "y_train['tax_value_dollar_count_pred_median'] = tax_value_dollar_count_pred_median\n",
    "y_validate['tax_value_dollar_count_pred_median'] = tax_value_dollar_count_pred_median\n",
    "\n",
    "# 3. RMSE of tax_value_dollar_count_pred_mean\n",
    "rmse_train = mean_squared_error(y_train.tax_value_dollar_count, y_train.tax_value_dollar_count_pred_mean) ** .5\n",
    "rmse_validate = mean_squared_error(y_validate.tax_value_dollar_count, y_validate.tax_value_dollar_count_pred_mean) ** (1/2)\n",
    "\n",
    "print(\"RMSE using Mean\\nTrain/In-Sample: \", round(rmse_train, 2), \n",
    "      \"\\nValidate/Out-of-Sample: \", round(rmse_validate, 2))\n",
    "\n",
    "# 4. RMSE of tax_value_dollar_count_pred_median\n",
    "rmse_train = mean_squared_error(y_train.tax_value_dollar_count, y_train.tax_value_dollar_count_pred_median) ** .5\n",
    "rmse_validate = mean_squared_error(y_validate.tax_value_dollar_count, y_validate.tax_value_dollar_count_pred_median) ** .5\n",
    "print(\"RMSE using Median\\nTrain/In-Sample: \", round(rmse_train, 2), \n",
    "      \"\\nValidate/Out-of-Sample: \", round(rmse_validate, 2))"
   ]
  },
  {
   "cell_type": "code",
   "execution_count": 7,
   "metadata": {},
   "outputs": [],
   "source": [
    "from sklearn.metrics import explained_variance_score"
   ]
  },
  {
   "cell_type": "code",
   "execution_count": 8,
   "metadata": {},
   "outputs": [],
   "source": [
    "metric_df = pd.DataFrame(data=[{\n",
    "    'model': 'mean_baseline', \n",
    "    'RMSE_validate': rmse_validate,\n",
    "    'r^2_validate': explained_variance_score(y_validate.tax_value_dollar_count, y_validate.tax_value_dollar_count_pred_mean)}])"
   ]
  },
  {
   "cell_type": "code",
   "execution_count": 9,
   "metadata": {},
   "outputs": [
    {
     "data": {
      "text/html": [
       "<div>\n",
       "<style scoped>\n",
       "    .dataframe tbody tr th:only-of-type {\n",
       "        vertical-align: middle;\n",
       "    }\n",
       "\n",
       "    .dataframe tbody tr th {\n",
       "        vertical-align: top;\n",
       "    }\n",
       "\n",
       "    .dataframe thead th {\n",
       "        text-align: right;\n",
       "    }\n",
       "</style>\n",
       "<table border=\"1\" class=\"dataframe\">\n",
       "  <thead>\n",
       "    <tr style=\"text-align: right;\">\n",
       "      <th></th>\n",
       "      <th>model</th>\n",
       "      <th>RMSE_validate</th>\n",
       "      <th>r^2_validate</th>\n",
       "    </tr>\n",
       "  </thead>\n",
       "  <tbody>\n",
       "    <tr>\n",
       "      <th>0</th>\n",
       "      <td>mean_baseline</td>\n",
       "      <td>166334.162904</td>\n",
       "      <td>4.440892e-16</td>\n",
       "    </tr>\n",
       "  </tbody>\n",
       "</table>\n",
       "</div>"
      ],
      "text/plain": [
       "           model  RMSE_validate  r^2_validate\n",
       "0  mean_baseline  166334.162904  4.440892e-16"
      ]
     },
     "execution_count": 9,
     "metadata": {},
     "output_type": "execute_result"
    }
   ],
   "source": [
    "metric_df"
   ]
  },
  {
   "cell_type": "code",
   "execution_count": 10,
   "metadata": {},
   "outputs": [
    {
     "data": {
      "image/png": "[encoded data removed]",
      "text/plain": [
       "<Figure size 432x288 with 1 Axes>"
      ]
     },
     "metadata": {
      "needs_background": "light"
     },
     "output_type": "display_data"
    }
   ],
   "source": [
    "# plot to visualize actual vs predicted. \n",
    "plt.hist(y_train.tax_value_dollar_count, color='blue', alpha=.5, label=\"Actual Tax Value Dollar Count\")\n",
    "plt.hist(y_train.tax_value_dollar_count_pred_mean, bins=1, color='red', alpha=.5, rwidth=100, label=\"Predicted Tax Value Dollar Count - Mean\")\n",
    "plt.hist(y_train.tax_value_dollar_count_pred_median, bins=1, color='orange', alpha=.5, rwidth=100, label=\"Predicted Tax Value Dollar Count- Median\")\n",
    "plt.xlabel(\"Tax Value Dollar Count in Hundred Thousands ($)\")\n",
    "plt.ylabel(\"Number of Homes\")\n",
    "plt.legend()\n",
    "plt.show()"
   ]
  },
  {
   "cell_type": "code",
   "execution_count": 11,
   "metadata": {},
   "outputs": [
    {
     "data": {
      "text/html": [
       "<div>\n",
       "<style scoped>\n",
       "    .dataframe tbody tr th:only-of-type {\n",
       "        vertical-align: middle;\n",
       "    }\n",
       "\n",
       "    .dataframe tbody tr th {\n",
       "        vertical-align: top;\n",
       "    }\n",
       "\n",
       "    .dataframe thead th {\n",
       "        text-align: right;\n",
       "    }\n",
       "</style>\n",
       "<table border=\"1\" class=\"dataframe\">\n",
       "  <thead>\n",
       "    <tr style=\"text-align: right;\">\n",
       "      <th></th>\n",
       "      <th>tax_value_dollar_count</th>\n",
       "      <th>tax_value_dollar_count_pred_mean</th>\n",
       "      <th>tax_value_dollar_count_pred_median</th>\n",
       "    </tr>\n",
       "  </thead>\n",
       "  <tbody>\n",
       "    <tr>\n",
       "      <th>110</th>\n",
       "      <td>132850.0</td>\n",
       "      <td>287785.015625</td>\n",
       "      <td>256480.5</td>\n",
       "    </tr>\n",
       "    <tr>\n",
       "      <th>61</th>\n",
       "      <td>174003.0</td>\n",
       "      <td>287785.015625</td>\n",
       "      <td>256480.5</td>\n",
       "    </tr>\n",
       "    <tr>\n",
       "      <th>41</th>\n",
       "      <td>952691.0</td>\n",
       "      <td>287785.015625</td>\n",
       "      <td>256480.5</td>\n",
       "    </tr>\n",
       "    <tr>\n",
       "      <th>45</th>\n",
       "      <td>190000.0</td>\n",
       "      <td>287785.015625</td>\n",
       "      <td>256480.5</td>\n",
       "    </tr>\n",
       "    <tr>\n",
       "      <th>66</th>\n",
       "      <td>357000.0</td>\n",
       "      <td>287785.015625</td>\n",
       "      <td>256480.5</td>\n",
       "    </tr>\n",
       "  </tbody>\n",
       "</table>\n",
       "</div>"
      ],
      "text/plain": [
       "     tax_value_dollar_count  tax_value_dollar_count_pred_mean  \\\n",
       "110                132850.0                     287785.015625   \n",
       "61                 174003.0                     287785.015625   \n",
       "41                 952691.0                     287785.015625   \n",
       "45                 190000.0                     287785.015625   \n",
       "66                 357000.0                     287785.015625   \n",
       "\n",
       "     tax_value_dollar_count_pred_median  \n",
       "110                            256480.5  \n",
       "61                             256480.5  \n",
       "41                             256480.5  \n",
       "45                             256480.5  \n",
       "66                             256480.5  "
      ]
     },
     "execution_count": 11,
     "metadata": {},
     "output_type": "execute_result"
    }
   ],
   "source": [
    "y_train.head()"
   ]
  },
  {
   "cell_type": "code",
   "execution_count": 12,
   "metadata": {},
   "outputs": [
    {
     "name": "stdout",
     "output_type": "stream",
     "text": [
      "RMSE for OLS using LinearRegression\n",
      "Training/In-Sample:  1.9180637352264513e-10 \n",
      "Validation/Out-of-Sample:  2.612550811018197e-10\n"
     ]
    }
   ],
   "source": [
    "# create the model object\n",
    "# \n",
    "# make the thing\n",
    "# \n",
    "lm = LinearRegression(normalize=True)\n",
    "\n",
    "# fit the model to our training data. We must specify the column in y_train, \n",
    "# since we have converted it to a dataframe from a series! \n",
    "# \n",
    "# fit the thing\n",
    "# \n",
    "lm.fit(X_train, y_train.tax_value_dollar_count)\n",
    "\n",
    "# predict train\n",
    "# \n",
    "# use the thing!\n",
    "# \n",
    "y_train['tax_value_dollar_count_pred_lm'] = lm.predict(X_train)\n",
    "\n",
    "# evaluate: rmse\n",
    "rmse_train = mean_squared_error(y_train.tax_value_dollar_count, y_train.tax_value_dollar_count_pred_lm) ** (1/2)\n",
    "\n",
    "# predict validate\n",
    "y_validate['tax_value_dollar_count_pred_lm'] = lm.predict(X_validate)\n",
    "\n",
    "# evaluate: rmse\n",
    "rmse_validate = mean_squared_error(y_validate.tax_value_dollar_count, y_validate.tax_value_dollar_count_pred_lm) ** (1/2)\n",
    "\n",
    "print(\"RMSE for OLS using LinearRegression\\nTraining/In-Sample: \", rmse_train, \n",
    "      \"\\nValidation/Out-of-Sample: \", rmse_validate)"
   ]
  },
  {
   "cell_type": "code",
   "execution_count": 13,
   "metadata": {},
   "outputs": [
    {
     "data": {
      "text/html": [
       "<div>\n",
       "<style scoped>\n",
       "    .dataframe tbody tr th:only-of-type {\n",
       "        vertical-align: middle;\n",
       "    }\n",
       "\n",
       "    .dataframe tbody tr th {\n",
       "        vertical-align: top;\n",
       "    }\n",
       "\n",
       "    .dataframe thead th {\n",
       "        text-align: right;\n",
       "    }\n",
       "</style>\n",
       "<table border=\"1\" class=\"dataframe\">\n",
       "  <thead>\n",
       "    <tr style=\"text-align: right;\">\n",
       "      <th></th>\n",
       "      <th>model</th>\n",
       "      <th>RMSE_validate</th>\n",
       "      <th>r^2_validate</th>\n",
       "    </tr>\n",
       "  </thead>\n",
       "  <tbody>\n",
       "    <tr>\n",
       "      <th>0</th>\n",
       "      <td>mean_baseline</td>\n",
       "      <td>1.663342e+05</td>\n",
       "      <td>4.440892e-16</td>\n",
       "    </tr>\n",
       "    <tr>\n",
       "      <th>1</th>\n",
       "      <td>OLS Regressor</td>\n",
       "      <td>2.612551e-10</td>\n",
       "      <td>1.000000e+00</td>\n",
       "    </tr>\n",
       "  </tbody>\n",
       "</table>\n",
       "</div>"
      ],
      "text/plain": [
       "           model  RMSE_validate  r^2_validate\n",
       "0  mean_baseline   1.663342e+05  4.440892e-16\n",
       "1  OLS Regressor   2.612551e-10  1.000000e+00"
      ]
     },
     "execution_count": 13,
     "metadata": {},
     "output_type": "execute_result"
    }
   ],
   "source": [
    "metric_df = metric_df.append({\n",
    "    'model': 'OLS Regressor', \n",
    "    'RMSE_validate': rmse_validate,\n",
    "    'r^2_validate': explained_variance_score(y_validate.tax_value_dollar_count, y_validate.tax_value_dollar_count_pred_lm)}, ignore_index=True)\n",
    "metric_df"
   ]
  },
  {
   "cell_type": "code",
   "execution_count": 14,
   "metadata": {},
   "outputs": [
    {
     "name": "stdout",
     "output_type": "stream",
     "text": [
      "RMSE for Lasso + Lars\n",
      "Training/In-Sample:  10.130939049100576 \n",
      "Validation/Out-of-Sample:  10.575993790819323\n"
     ]
    }
   ],
   "source": [
    "# create the model object\n",
    "lars = LassoLars(alpha=1)\n",
    "\n",
    "# fit the model to our training data. We must specify the column in y_train, \n",
    "# since we have converted it to a dataframe from a series!\n",
    "lars.fit(X_train, y_train.tax_value_dollar_count)\n",
    "\n",
    "# predict train\n",
    "y_train['tax_value_dollar_count_lars'] = lars.predict(X_train)\n",
    "\n",
    "# evaluate: rmse\n",
    "rmse_train = mean_squared_error(y_train.tax_value_dollar_count, y_train.tax_value_dollar_count_lars) ** (1/2)\n",
    "\n",
    "# predict validate\n",
    "y_validate['tax_value_dollar_count_lars'] = lars.predict(X_validate)\n",
    "\n",
    "# evaluate: rmse\n",
    "rmse_validate = mean_squared_error(y_validate.tax_value_dollar_count, y_validate.tax_value_dollar_count_lars) ** (1/2)\n",
    "\n",
    "print(\"RMSE for Lasso + Lars\\nTraining/In-Sample: \", rmse_train, \n",
    "      \"\\nValidation/Out-of-Sample: \", rmse_validate)"
   ]
  },
  {
   "cell_type": "code",
   "execution_count": 15,
   "metadata": {},
   "outputs": [
    {
     "data": {
      "text/html": [
       "<div>\n",
       "<style scoped>\n",
       "    .dataframe tbody tr th:only-of-type {\n",
       "        vertical-align: middle;\n",
       "    }\n",
       "\n",
       "    .dataframe tbody tr th {\n",
       "        vertical-align: top;\n",
       "    }\n",
       "\n",
       "    .dataframe thead th {\n",
       "        text-align: right;\n",
       "    }\n",
       "</style>\n",
       "<table border=\"1\" class=\"dataframe\">\n",
       "  <thead>\n",
       "    <tr style=\"text-align: right;\">\n",
       "      <th></th>\n",
       "      <th>model</th>\n",
       "      <th>RMSE_validate</th>\n",
       "      <th>r^2_validate</th>\n",
       "    </tr>\n",
       "  </thead>\n",
       "  <tbody>\n",
       "    <tr>\n",
       "      <th>0</th>\n",
       "      <td>mean_baseline</td>\n",
       "      <td>1.663342e+05</td>\n",
       "      <td>4.440892e-16</td>\n",
       "    </tr>\n",
       "    <tr>\n",
       "      <th>1</th>\n",
       "      <td>OLS Regressor</td>\n",
       "      <td>2.612551e-10</td>\n",
       "      <td>1.000000e+00</td>\n",
       "    </tr>\n",
       "    <tr>\n",
       "      <th>2</th>\n",
       "      <td>Lasso alpha 1</td>\n",
       "      <td>1.057599e+01</td>\n",
       "      <td>1.000000e+00</td>\n",
       "    </tr>\n",
       "  </tbody>\n",
       "</table>\n",
       "</div>"
      ],
      "text/plain": [
       "           model  RMSE_validate  r^2_validate\n",
       "0  mean_baseline   1.663342e+05  4.440892e-16\n",
       "1  OLS Regressor   2.612551e-10  1.000000e+00\n",
       "2  Lasso alpha 1   1.057599e+01  1.000000e+00"
      ]
     },
     "execution_count": 15,
     "metadata": {},
     "output_type": "execute_result"
    }
   ],
   "source": [
    "metric_df = metric_df.append({\n",
    "    'model': 'Lasso alpha 1', \n",
    "    'RMSE_validate': rmse_validate,\n",
    "    'r^2_validate': explained_variance_score(y_validate.tax_value_dollar_count, y_validate.tax_value_dollar_count_lars)}, ignore_index=True)\n",
    "metric_df"
   ]
  },
  {
   "cell_type": "code",
   "execution_count": 17,
   "metadata": {},
   "outputs": [
    {
     "name": "stdout",
     "output_type": "stream",
     "text": [
      "RMSE for GLM using Tweedie, power=1 & alpha=0\n",
      "Training/In-Sample:  161830.99124882687 \n",
      "Validation/Out-of-Sample:  161830.99124882687\n"
     ]
    }
   ],
   "source": [
    "# create the model object\n",
    "glm = TweedieRegressor(power=1, alpha=0)\n",
    "\n",
    "\n",
    "# fit the model to our training data. We must specify the column in y_train, \n",
    "# since we have converted it to a dataframe from a series! \n",
    "glm.fit(X_train, y_train.tax_value_dollar_count)\n",
    "\n",
    "# predict train\n",
    "y_train['tax_value_dollar_count_glm'] = glm.predict(X_train)\n",
    "\n",
    "# evaluate: rmse\n",
    "rmse_train = mean_squared_error(y_train.tax_value_dollar_count, y_train.tax_value_dollar_count_glm) ** (1/2)\n",
    "\n",
    "# predict validate\n",
    "y_validate['tax_value_dollar_count_glm'] = glm.predict(X_validate)\n",
    "\n",
    "# evaluate: rmse\n",
    "rmse_validate = mean_squared_error(y_train.tax_value_dollar_count, y_train.tax_value_dollar_count_glm) ** (1/2)\n",
    "\n",
    "print(\"RMSE for GLM using Tweedie, power=1 & alpha=0\\nTraining/In-Sample: \", rmse_train, \n",
    "      \"\\nValidation/Out-of-Sample: \", rmse_validate)"
   ]
  },
  {
   "cell_type": "code",
   "execution_count": 18,
   "metadata": {},
   "outputs": [],
   "source": [
    "metric_df = metric_df.append({\n",
    "    'model': 'GLS (Poisson)', \n",
    "    'RMSE_validate': rmse_validate,\n",
    "    'r^2_validate': explained_variance_score(y_validate.tax_value_dollar_count, y_validate.tax_value_dollar_count_glm)}, ignore_index=True)"
   ]
  },
  {
   "cell_type": "code",
   "execution_count": 19,
   "metadata": {},
   "outputs": [
    {
     "data": {
      "text/html": [
       "<div>\n",
       "<style scoped>\n",
       "    .dataframe tbody tr th:only-of-type {\n",
       "        vertical-align: middle;\n",
       "    }\n",
       "\n",
       "    .dataframe tbody tr th {\n",
       "        vertical-align: top;\n",
       "    }\n",
       "\n",
       "    .dataframe thead th {\n",
       "        text-align: right;\n",
       "    }\n",
       "</style>\n",
       "<table border=\"1\" class=\"dataframe\">\n",
       "  <thead>\n",
       "    <tr style=\"text-align: right;\">\n",
       "      <th></th>\n",
       "      <th>model</th>\n",
       "      <th>RMSE_validate</th>\n",
       "      <th>r^2_validate</th>\n",
       "    </tr>\n",
       "  </thead>\n",
       "  <tbody>\n",
       "    <tr>\n",
       "      <th>0</th>\n",
       "      <td>mean_baseline</td>\n",
       "      <td>1.663342e+05</td>\n",
       "      <td>4.440892e-16</td>\n",
       "    </tr>\n",
       "    <tr>\n",
       "      <th>1</th>\n",
       "      <td>OLS Regressor</td>\n",
       "      <td>2.612551e-10</td>\n",
       "      <td>1.000000e+00</td>\n",
       "    </tr>\n",
       "    <tr>\n",
       "      <th>2</th>\n",
       "      <td>Lasso alpha 1</td>\n",
       "      <td>1.057599e+01</td>\n",
       "      <td>1.000000e+00</td>\n",
       "    </tr>\n",
       "    <tr>\n",
       "      <th>3</th>\n",
       "      <td>GLS (Poisson)</td>\n",
       "      <td>1.618310e+05</td>\n",
       "      <td>4.440892e-16</td>\n",
       "    </tr>\n",
       "  </tbody>\n",
       "</table>\n",
       "</div>"
      ],
      "text/plain": [
       "           model  RMSE_validate  r^2_validate\n",
       "0  mean_baseline   1.663342e+05  4.440892e-16\n",
       "1  OLS Regressor   2.612551e-10  1.000000e+00\n",
       "2  Lasso alpha 1   1.057599e+01  1.000000e+00\n",
       "3  GLS (Poisson)   1.618310e+05  4.440892e-16"
      ]
     },
     "execution_count": 19,
     "metadata": {},
     "output_type": "execute_result"
    }
   ],
   "source": [
    "metric_df"
   ]
  },
  {
   "cell_type": "code",
   "execution_count": null,
   "metadata": {},
   "outputs": [],
   "source": []
  }
 ],
 "metadata": {
  "kernelspec": {
   "display_name": "Python 3",
   "language": "python",
   "name": "python3"
  },
  "language_info": {
   "codemirror_mode": {
    "name": "ipython",
    "version": 3
   },
   "file_extension": ".py",
   "mimetype": "text/x-python",
   "name": "python",
   "nbconvert_exporter": "python",
   "pygments_lexer": "ipython3",
   "version": "3.7.6"
  }
 },
 "nbformat": 4,
 "nbformat_minor": 4
}
